{
 "cells": [
  {
   "cell_type": "markdown",
   "id": "e7a8fca7-d9a4-4a13-9230-4da63e9e07e5",
   "metadata": {},
   "source": [
    "## 1: time_step"
   ]
  },
  {
   "cell_type": "code",
   "execution_count": null,
   "id": "5ca05d23-135a-4f1f-9b30-bbeacf7dd490",
   "metadata": {},
   "outputs": [],
   "source": [
    "import dolfinx\n",
    "print(f\"DOLFINx version: {dolfinx.__version__} based on GIT commit: {dolfinx.git_commit_hash} of https://github.com/FEniCS/dolfinx/\")"
   ]
  },
  {
   "cell_type": "code",
   "execution_count": null,
   "id": "d02705cb-26aa-445b-8528-731951d6a809",
   "metadata": {},
   "outputs": [],
   "source": [
    "from disc_f import *\n",
    "d = get_time_step_from_angular(61, 10, 1)\n",
    "d = get_time_step_from_angular(112, 10, 1)\n",
    "d = get_time_step_from_angular(224, 10, 1)\n",
    "d = get_time_step_from_angular(3650, 10, 1)"
   ]
  },
  {
   "cell_type": "code",
   "execution_count": null,
   "id": "03822a43-b1db-4f24-a070-908113d03f60",
   "metadata": {},
   "outputs": [],
   "source": [
    "from  main_thermal import main_thermal\n",
    "# c is the parameter, which will change\n",
    "#para = [112,224,448,896,1120,11200]\n",
    "#para = [56]\n",
    "\n",
    "#para = [1792,3584,7168]\n",
    "para = [28672]\n",
    "angular = 3\n",
    "mesh_max = 5\n",
    "c_contact = 1\n",
    "type = 'time_step'\n",
    "\n",
    "main_thermal(para, type ,angular, mesh_max, c_contact)"
   ]
  },
  {
   "cell_type": "markdown",
   "id": "7cc024f6-53a6-468a-842d-75a4f7e53d65",
   "metadata": {},
   "source": [
    "## 2: mesh_size"
   ]
  },
  {
   "cell_type": "code",
   "execution_count": null,
   "id": "67f4471d-ca76-4458-85f6-c0dd0372b362",
   "metadata": {},
   "outputs": [],
   "source": [
    "from main_thermal import main_thermal\n",
    "\n",
    "par = [2]\n",
    "#par = [2,5,10,20]\n",
    "\n",
    "angular = 224\n",
    "mesh_max = 15\n",
    "c_contact = 1\n",
    "\n",
    "\n",
    "type = 'mesh_size'\n",
    "\n",
    "main_thermal(par, type ,angular, mesh_max, c_contact)"
   ]
  },
  {
   "cell_type": "code",
   "execution_count": null,
   "id": "0abc531d-594f-46d8-8764-5913b12638fd",
   "metadata": {},
   "outputs": [],
   "source": []
  },
  {
   "cell_type": "markdown",
   "id": "cfeb2648-3e4c-4984-bdbd-b9f0fcce657e",
   "metadata": {},
   "source": [
    "## 3: contact_area"
   ]
  },
  {
   "cell_type": "code",
   "execution_count": null,
   "id": "fc764251-72bb-4bbd-804f-5e2a6b82269c",
   "metadata": {},
   "outputs": [],
   "source": []
  },
  {
   "cell_type": "code",
   "execution_count": null,
   "id": "3742af59-3896-41de-aece-b80a181e32af",
   "metadata": {},
   "outputs": [],
   "source": [
    "import dolfinx\n",
    "from disc_f import *\n",
    "from main_thermal import main_thermal\n",
    "\n",
    "#par = [0.1, 0.5, 1]\n",
    "par = [0.2]\n",
    "angular = 448\n",
    "mesh_max = 5\n",
    "c_contact = 1\n",
    "type = 'contact_area'\n",
    "\n",
    "main_thermal(par, type ,angular, mesh_max, c_contact)"
   ]
  },
  {
   "cell_type": "code",
   "execution_count": null,
   "id": "5df8f066-0e36-47a8-bffd-56b7cdf2b8c2",
   "metadata": {},
   "outputs": [],
   "source": [
    "from brake_disc_functions import *\n",
    "\n",
    "#dpar = find_3_coord ('m-3-3.msh')"
   ]
  },
  {
   "cell_type": "code",
   "execution_count": null,
   "id": "bbb8c45b-ddde-4868-9faf-b819652b908e",
   "metadata": {},
   "outputs": [],
   "source": [
    "[94411, 114209, 8995]"
   ]
  }
 ],
 "metadata": {
  "kernelspec": {
   "display_name": "Python 3 (ipykernel)",
   "language": "python",
   "name": "python3"
  },
  "language_info": {
   "codemirror_mode": {
    "name": "ipython",
    "version": 3
   },
   "file_extension": ".py",
   "mimetype": "text/x-python",
   "name": "python",
   "nbconvert_exporter": "python",
   "pygments_lexer": "ipython3",
   "version": "3.12.2"
  }
 },
 "nbformat": 4,
 "nbformat_minor": 5
}
