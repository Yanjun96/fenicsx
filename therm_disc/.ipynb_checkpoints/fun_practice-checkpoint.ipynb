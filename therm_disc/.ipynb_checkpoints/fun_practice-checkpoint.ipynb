{
 "cells": [
  {
   "cell_type": "markdown",
   "id": "46b3e23d-92f7-457a-958f-13a1ff118637",
   "metadata": {},
   "source": [
    "# Creat a list"
   ]
  },
  {
   "cell_type": "code",
   "execution_count": null,
   "id": "3da591ad-44e5-46ba-a499-188b5a67dc93",
   "metadata": {},
   "outputs": [],
   "source": [
    "list1 = [1]\n",
    "for i in range (1,18):\n",
    "   list1 +=  [i+1]\n",
    "\n",
    "print(list1)"
   ]
  },
  {
   "cell_type": "code",
   "execution_count": null,
   "id": "fd3f3257-978b-4fbe-a0d8-f93be6aff734",
   "metadata": {},
   "outputs": [],
   "source": [
    "my_list = [ i for i in range(1, 19)]\n",
    "print(my_list)"
   ]
  },
  {
   "cell_type": "code",
   "execution_count": null,
   "id": "18fab669-7964-4df9-816c-6aa9573a68d7",
   "metadata": {},
   "outputs": [],
   "source": [
    "m_list = list(range(1,19))\n",
    "print(m_list)"
   ]
  },
  {
   "cell_type": "code",
   "execution_count": null,
   "id": "8bab890c-a30d-4000-82b8-42a5051bf939",
   "metadata": {},
   "outputs": [],
   "source": [
    "a = 0\n",
    "for i in list(range(1,5)):\n",
    "   a +=  i\n",
    "   print(a)\n"
   ]
  },
  {
   "cell_type": "markdown",
   "id": "dfef8ee5-6f75-4bb8-9b49-e42d0e0c4500",
   "metadata": {},
   "source": [
    "# Filename in function"
   ]
  },
  {
   "cell_type": "code",
   "execution_count": null,
   "id": "5261f8a3-97c7-4ce4-bd84-de19abe23476",
   "metadata": {},
   "outputs": [],
   "source": [
    "def what(filename):\n",
    "    c = print(filename + \".msh\")\n",
    "    notice = print(\"NOTICE:\" + filename + \" has been meshed successfully and saved as \" + filename + \".msh\")   \n",
    "    return c \n",
    "    return notice\n",
    "    "
   ]
  },
  {
   "cell_type": "code",
   "execution_count": null,
   "id": "e2c752d0-1853-49e0-98aa-161f0f7e2986",
   "metadata": {},
   "outputs": [],
   "source": [
    "what(\"hao\")"
   ]
  },
  {
   "cell_type": "markdown",
   "id": "3a7e7650-566a-457a-8886-c1b269f59864",
   "metadata": {},
   "source": [
    "# File Location"
   ]
  },
  {
   "cell_type": "code",
   "execution_count": null,
   "id": "8485c20f-382c-4044-b0ed-d700ce9f6bf4",
   "metadata": {},
   "outputs": [],
   "source": [
    "import os\n",
    "os.getcwd()"
   ]
  },
  {
   "cell_type": "markdown",
   "id": "c04e4671-d3d5-4f08-9e26-d85807126e0e",
   "metadata": {},
   "source": [
    "below command can import function from other file directory"
   ]
  },
  {
   "cell_type": "code",
   "execution_count": null,
   "id": "f9751ef4-d4ae-416b-a1e1-2c849ef4e09c",
   "metadata": {},
   "outputs": [],
   "source": [
    "import sys\n",
    "sys.path.append('/home/yanjun/Documents/FEniCSx/Tutorial/Mesh/')\n",
    "from mesh_disc import mesh_brake_disc"
   ]
  },
  {
   "cell_type": "code",
   "execution_count": null,
   "id": "1cc52304-2435-4d68-881c-7c266ba1946f",
   "metadata": {},
   "outputs": [],
   "source": []
  },
  {
   "cell_type": "code",
   "execution_count": null,
   "id": "222f9b18-a22a-4994-96e8-3955a71dfd03",
   "metadata": {},
   "outputs": [],
   "source": [
    "import gmsh\n",
    "gmsh.fltk.run()"
   ]
  },
  {
   "cell_type": "markdown",
   "id": "0b6c4024-3c71-454b-b4c7-a63f78777889",
   "metadata": {},
   "source": [
    "# Function location\n"
   ]
  },
  {
   "cell_type": "code",
   "execution_count": null,
   "id": "7bbc6f45-5103-4349-a5ed-f38ce6882b0f",
   "metadata": {},
   "outputs": [],
   "source": [
    "import gmsh\n",
    "outer_disc  = gmsh.model.occ.addCylinder(0,0,0,  0, 0, z1,  rd_o)"
   ]
  },
  {
   "cell_type": "markdown",
   "id": "1301cf8e-4205-4591-8f20-b7791af0be00",
   "metadata": {},
   "source": [
    "# np.full\n",
    "list is [2,3,4,5]\n",
    "array is [2 3 4 5]"
   ]
  },
  {
   "cell_type": "code",
   "execution_count": null,
   "id": "b0b330f3-e28f-4f92-97f9-b1fea1efd815",
   "metadata": {},
   "outputs": [],
   "source": [
    "import numpy as np\n",
    "\n",
    "x = [1, 2, 3, 4, 5, 6, 7, 8]\n",
    "\n",
    "x_array = np.array( [[1, 2, 3, 4], [ 5, 6, 7, 8]] )  # Convert x to a NumPy array\n",
    "\n",
    "constant_value = 10\n",
    "new_array = np.full(x_array.shape[1], constant_value)\n",
    "print(new_array)"
   ]
  },
  {
   "cell_type": "code",
   "execution_count": null,
   "id": "7786d5ab-3aa1-45f9-b3b8-07b863725198",
   "metadata": {},
   "outputs": [],
   "source": [
    "print(x)\n",
    "print(x_array)"
   ]
  },
  {
   "cell_type": "markdown",
   "id": "652e77d5-6ab6-4e45-9cdb-62e3f1e4135b",
   "metadata": {},
   "source": [
    "# Read information"
   ]
  },
  {
   "cell_type": "code",
   "execution_count": null,
   "id": "84172b87-bb2b-4ebf-8c07-2ff9068d628b",
   "metadata": {},
   "outputs": [],
   "source": [
    "def get_rub_coordinate():\n",
    "   import re\n",
    "# Sample text containing cylinder data\n",
    "   text = \"\"\"\n",
    "rub1  = gmsh.model.occ.addCylinder(214,27,z1,           0, 0, z2,  r_rub)\n",
    "rub2  = gmsh.model.occ.addCylinder(258,22,z1,           0, 0, z2,  r_rub)\n",
    "rub3  = gmsh.model.occ.addCylinder(252,63,z1,           0, 0, z2,  r_rub)\n",
    "rub4  = gmsh.model.occ.addCylinder(197, 66, z1,         0, 0, z2,  r_rub)\n",
    "rub5  = gmsh.model.occ.addCylinder(262, 105, z1,        0, 0, z2,  r_rub)\n",
    "rub6  = gmsh.model.occ.addCylinder(222,99, z1,          0, 0, z2,  r_rub)\n",
    "rub7  = gmsh.model.occ.addCylinder(240,148, z1,         0, 0, z2,  r_rub)\n",
    "rub8  = gmsh.model.occ.addCylinder(202,135, z1,         0, 0, z2,  r_rub)\n",
    "rub9  = gmsh.model.occ.addCylinder(168,111, z1,         0, 0, z2,  r_rub)\n",
    "rub10 = gmsh.model.occ.addCylinder(66.25,250.47,z1,     0, 0, z2,  r_rub)\n",
    "rub11 = gmsh.model.occ.addCylinder(138.27,146.38,z1,    0, 0, z2,  r_rub)\n",
    "rub12 = gmsh.model.occ.addCylinder(167.81,175.7, z1,    0, 0, z2,  r_rub)\n",
    "rub13 = gmsh.model.occ.addCylinder(187.21, 210.86, z1,  0, 0, z2,  r_rub)\n",
    "rub14 = gmsh.model.occ.addCylinder(135.83,201.65, z1,   0, 0, z2,  r_rub)\n",
    "rub15 = gmsh.model.occ.addCylinder(98.99,182.76, z1,    0, 0, z2,  r_rub)\n",
    "rub16 = gmsh.model.occ.addCylinder(105.58,237.44, z1,   0, 0, z2,  r_rub)\n",
    "rub17 = gmsh.model.occ.addCylinder(148.68,240, z1,      0, 0, z2,  r_rub)\n",
    "rub18 = gmsh.model.occ.addCylinder(63.53, 206.27, z1,   0, 0, z2,  r_rub)\n",
    "\"\"\"\n",
    "\n",
    "# Regular expression pattern to extract x and y coordinates\n",
    "   pattern = r\"addCylinder\\(([\\d.]+),\\s*([\\d.]+),\"\n",
    "\n",
    "# Find all matches in the text\n",
    "   matches = re.findall(pattern, text)\n",
    "\n",
    "# Extract x and y coordinates from matches\n",
    "   x_co = [float(match[0]) for match in matches]\n",
    "   y_co = [float(match[1]) for match in matches]\n",
    "    \n",
    "   return x_co, y_co\n",
    "   \n"
   ]
  },
  {
   "cell_type": "code",
   "execution_count": null,
   "id": "c1b5d802-6898-49f7-a21c-a27ead9fea64",
   "metadata": {},
   "outputs": [],
   "source": [
    "x_co, y_co = get_rub_coordinate()"
   ]
  },
  {
   "cell_type": "code",
   "execution_count": null,
   "id": "6f394436-b9df-4dd7-a688-bc0fb77a1bdc",
   "metadata": {},
   "outputs": [],
   "source": [
    "print(x_co)"
   ]
  },
  {
   "cell_type": "code",
   "execution_count": null,
   "id": "4c29c0bf-d387-4cde-a74b-c0c27cffb5aa",
   "metadata": {},
   "outputs": [],
   "source": [
    "    import sys\n",
    "    sys.path.append('/home/yanjun/Documents/FEniCSx/Tutorial/Mesh/')\n",
    "    from rub_co import get_rub_coordinate\n",
    "    x_co, y_co = get_rub_coordinate()\n",
    "    \n",
    "    m_list = list(range(1,len(x_co)+1))\n",
    "print(m_list)"
   ]
  },
  {
   "cell_type": "code",
   "execution_count": null,
   "id": "3988f582-0fbe-44a7-a698-8e377c619cfa",
   "metadata": {},
   "outputs": [],
   "source": []
  },
  {
   "cell_type": "markdown",
   "id": "776cdd76-760a-49ea-a6c2-4e9529ca253e",
   "metadata": {},
   "source": [
    "# Rub Original location"
   ]
  },
  {
   "cell_type": "code",
   "execution_count": null,
   "id": "a8b5feb6-9037-429c-92af-83049a10cdc7",
   "metadata": {},
   "outputs": [],
   "source": [
    "    rub1  = gmsh.model.occ.addCylinder(214,27,z1,           0, 0, z2,  r_rub)\n",
    "    rub2  = gmsh.model.occ.addCylinder(258,22,z1,           0, 0, z2,  r_rub)\n",
    "    rub3  = gmsh.model.occ.addCylinder(252,63,z1,           0, 0, z2,  r_rub)\n",
    "    rub4  = gmsh.model.occ.addCylinder(197, 66, z1,         0, 0, z2,  r_rub)\n",
    "    rub5  = gmsh.model.occ.addCylinder(262, 105, z1,        0, 0, z2,  r_rub)\n",
    "    rub6  = gmsh.model.occ.addCylinder(222,99, z1,          0, 0, z2,  r_rub)\n",
    "    rub7  = gmsh.model.occ.addCylinder(240,148, z1,         0, 0, z2,  r_rub)\n",
    "    rub8  = gmsh.model.occ.addCylinder(202,135, z1,         0, 0, z2,  r_rub)\n",
    "    rub9  = gmsh.model.occ.addCylinder(168,111, z1,         0, 0, z2,  r_rub)\n",
    "    rub10 = gmsh.model.occ.addCylinder(66.25,250.47,z1,     0, 0, z2,  r_rub)\n",
    "    rub11 = gmsh.model.occ.addCylinder(138.27,146.38,z1,    0, 0, z2,  r_rub)\n",
    "    rub12 = gmsh.model.occ.addCylinder(167.81,175.7, z1,    0, 0, z2,  r_rub)\n",
    "    rub13 = gmsh.model.occ.addCylinder(187.21, 210.86, z1,  0, 0, z2,  r_rub)\n",
    "    rub14 = gmsh.model.occ.addCylinder(135.83,201.65, z1,   0, 0, z2,  r_rub)\n",
    "    rub15 = gmsh.model.occ.addCylinder(98.99,182.76, z1,    0, 0, z2,  r_rub)\n",
    "    rub16 = gmsh.model.occ.addCylinder(105.58,237.44, z1,   0, 0, z2,  r_rub)\n",
    "    rub17 = gmsh.model.occ.addCylinder(148.68,240, z1,      0, 0, z2,  r_rub)\n",
    "    rub18 = gmsh.model.occ.addCylinder(63.53, 206.27, z1,   0, 0, z2,  r_rub)"
   ]
  },
  {
   "cell_type": "markdown",
   "id": "87d8bc64-72d1-40ef-bfb9-75d121d4cd80",
   "metadata": {},
   "source": [
    "# Test for loop Cylinder loop"
   ]
  },
  {
   "cell_type": "code",
   "execution_count": null,
   "id": "5ebd6ae3-89af-42c5-a002-48d44bdef25e",
   "metadata": {},
   "outputs": [],
   "source": [
    "import gmsh\n",
    "import sys\n",
    "import math\n",
    "import os\n",
    "import numpy as np\n",
    "\n",
    "min_mesh = 5\n",
    "max_mesh = 10\n",
    "filename = \"delete\"\n",
    "    \n",
    "gmsh.initialize()\n",
    "    # all the unit is mm\n",
    "    \n",
    "    # z1, z2, z3 is the height of brake disc, rubbing elemetn, pad lining in Z direction\n",
    "    # rd_outer, rd_inner is for brake disc, rp_outer, rp_inner is for brake pad radiu. r_rub is for rubbing elements\n",
    "    # angle1 is brake pad in degree system, angle is in radians system\n",
    "    \n",
    "z1, z2, z3 = 20, 33, 30\n",
    "rd_o, rd_i = 320, 175 \n",
    "r_rub = 18.8\n",
    "rp_o, rp_i = 303, 178\n",
    "    \n",
    "angle1 = 80\n",
    "angle = angle1 / 360 * 2 * math.pi\n",
    "    \n",
    "    # gmsh.model.occ.addCylinder\n",
    "    # x (double), y (double), z (double), dx (double), dy (double), dz (double),\n",
    "    # r (double), tag = -1 (integer), angle = 2*pi (double)\n",
    "    \n",
    "    # brake disc\n",
    "outer_disc  = gmsh.model.occ.addCylinder(0,0,0,  0, 0, z1,  rd_o)\n",
    "inner_disc  = gmsh.model.occ.addCylinder(0,0,0,  0, 0, z1,  rd_i)\n",
    "disk = gmsh.model.occ.cut([(3, outer_disc)], [(3, inner_disc)])\n",
    "\n",
    "import sys\n",
    "sys.path.append('/home/yanjun/Documents/FEniCSx/Tutorial/Mesh/')\n",
    "from rub_co import get_rub_coordinate\n",
    "x_co, y_co = get_rub_coordinate()\n",
    "\n",
    "\n",
    "rub_list = []\n",
    "for i, (x, y) in enumerate(zip(x_co, y_co), start=1):\n",
    "    var_name = f\"rub{i}\"\n",
    "    tag = gmsh.model.occ.addCylinder(x, y, z1, 0, 0, z2, r_rub)\n",
    "    globals()[var_name] = tag\n",
    "    rub_list.append(globals()[var_name])\n",
    "    # rubbing elements\n",
    "  \n",
    "    \n",
    "    # brake pad, in [(3, )],3 means dimension, cut the common place, out - inner\n",
    "outer_pad  = gmsh.model.occ.addCylinder(0,0,z1+z2,  0, 0, z3,  rp_o, 50, angle)\n",
    "inner_pad  = gmsh.model.occ.addCylinder(0,0,z1+z2,  0, 0, z3,  rp_i, 51, angle)\n",
    "pad = gmsh.model.occ.cut([(3, outer_pad)], [(3, inner_pad)]) \n",
    "    \n",
    "    # Initialize the shell with the first rub\n",
    "\n",
    "#rub_list = [rub1, rub2, rub3, rub4, rub5, rub6, rub7, \n",
    "              #  rub8, rub9, rub10, rub11, rub12, rub13, rub14, rub15, rub16, rub17, rub18]\n",
    "\n",
    "#run_list = [2, 3, 4, 5, 6, 7, 8, 9, 10, 11, 12, 13, 14, 15, 16, 17, 18, 19]\n",
    "    \n",
    "shell = gmsh.model.occ.fuse([(3, outer_pad)], [(3, rub_list[0])], 70)\n",
    "for i in range(len(rub_list) - 1):\n",
    "        shell = gmsh.model.occ.fuse([(3, 70 + i)], [(3, rub_list[i + 1])], 71 + i)\n",
    "gmsh.model.occ.synchronize()\n",
    "    \n",
    "    # Add physical group, this step should after synchronize to make sure success\n",
    "    # https://gitlab.onelab.info/gmsh/gmsh/blob/master/tutorials/python/t1.py#L115\n",
    "    \n",
    "    # Volumes: 31,32 brake disc and pad.\n",
    "volumes = gmsh.model.occ.getEntities(dim = 3)\n",
    "gmsh.model.addPhysicalGroup(3, volumes[0],  31)\n",
    "gmsh.model.addPhysicalGroup(3, volumes[1],  32)\n",
    "    \n",
    "    # Surfaces: brake disc, 21 = friction surface\n",
    "surfaces = gmsh.model.occ.getEntities(dim = 2)\n",
    "gmsh.model.addPhysicalGroup(2, (2,6), 21)\n",
    "    \n",
    "    # Rubbing elements, from 1 to 19, here 32 is the origin name tag of rub surface(32-49)\n",
    "rublist = list(range(32,50))\n",
    "for rub in rublist:\n",
    "    gmsh.model.addPhysicalGroup(2, (2, rub), rub-31)\n",
    "    \n",
    "gmsh.model.occ.synchronize()\n",
    "    \n",
    "    # for the rubbing elements, P13 of UIC 541-3\n",
    "    # Sinter material, 200 cm2, 18 rubbing elemets, r = 1.88 cm\n",
    "    # Mesh size\n",
    "gmsh.option.setNumber(\"Mesh.MeshSizeMin\", min_mesh)\n",
    "gmsh.option.setNumber(\"Mesh.MeshSizeMax\", max_mesh)\n",
    "    \n",
    "    # Mesh file save\n",
    "gmsh.model.mesh.generate(3)\n",
    "c = gmsh.write(filename + \".msh\")\n",
    "notice = print(\"NOTICE:\" + filename + \" has been meshed successfully and saved as \" + filename + \".msh\")   \n",
    "    # Launch the GUI to see the results:\n",
    "    # if '-nopopup' not in sys.argv:\n",
    "    #    gmsh.fltk.run()\n",
    "gmsh.finalize()\n"
   ]
  },
  {
   "cell_type": "code",
   "execution_count": null,
   "id": "bb0b6677-dfd5-4244-89ac-341128597859",
   "metadata": {},
   "outputs": [],
   "source": [
    "print(rub_list)"
   ]
  },
  {
   "cell_type": "code",
   "execution_count": null,
   "id": "dedd3ca6-6371-4445-abbc-a8287ef63a61",
   "metadata": {},
   "outputs": [],
   "source": [
    "print(x_c,y_c)"
   ]
  },
  {
   "cell_type": "markdown",
   "id": "8a02b033-3e1b-42f6-9235-4c0b5fd5553b",
   "metadata": {},
   "source": [
    "# Find common"
   ]
  },
  {
   "cell_type": "code",
   "execution_count": null,
   "id": "e5a96ab1-4b43-4bac-9232-fe6e708a9e9e",
   "metadata": {},
   "outputs": [],
   "source": [
    "def find_common_e(bcs, *bcs_lists):\n",
    "    # Create set for bcs\n",
    "    \n",
    "    set_bcs = set(tuple(bcs))\n",
    "        # Initialize the union set with the set of bcs\n",
    "    union = set()\n",
    "    \n",
    "    # Iterate through the list of lists\n",
    "    for bc in bcs_lists:\n",
    "        # Convert current list to set\n",
    "        set_bc = set(bc)\n",
    "        \n",
    "        # Update the union set with the current list\n",
    "        union = union.union(set_bc)\n",
    "    \n",
    "    # Find the common elements with bcs\n",
    "    common_e = set_bcs.intersection(union)\n",
    "    \n",
    "    return common_e"
   ]
  },
  {
   "cell_type": "code",
   "execution_count": null,
   "id": "86c5ff81-9ea8-45f4-b7cc-bd7f21158eaf",
   "metadata": {},
   "outputs": [],
   "source": [
    "c = find_common_e([1, 2, 4, 7, 8], [2, 4, 8], [1, 4, 6], [6, 8])\n",
    "#c = find_common_e( [1 2 4 7 8], [2 4 8], [1 4 6], [6 8] )\n",
    "print(c)\n",
    "\n",
    "print(type(c))"
   ]
  },
  {
   "cell_type": "markdown",
   "id": "01c484eb-39b3-4e49-9229-630075ae3615",
   "metadata": {},
   "source": [
    "# Rotation\n"
   ]
  },
  {
   "cell_type": "code",
   "execution_count": null,
   "id": "15418116-4122-408e-a13f-8c64c49f0f98",
   "metadata": {},
   "outputs": [],
   "source": [
    "import numpy as np\n",
    "import matplotlib.pyplot as plt\n",
    "\n",
    "# Define the x and y coordinates\n",
    "x = np.array([214.0, 258.0, 252.0, 197.0, 262.0, 222.0, 240.0, 202.0, 168.0, 66.25, 138.27, 167.81, 187.21, 135.83, 98.99, 105.58, 148.68, 63.53])\n",
    "y = np.array([27.0, 22.0, 63.0, 66.0, 105.0, 99.0, 148.0, 135.0, 111.0, 250.47, 146.38, 175.7, 210.86, 201.65, 182.76, 237.44, 240.0, 206.27])\n",
    "\n",
    "# Define the radius\n",
    "radius = 18\n",
    "\n",
    "# Plot the coordinates as circles\n",
    "#plt.figure(figsize=(8, 6))\n",
    "plt.axis('equal')\n",
    "\n",
    "plt.xlim(-300, 300)\n",
    "plt.ylim(-300, 400)\n",
    "for i in range(len(x)):\n",
    "    plt.scatter(x[i], y[i], s=np.pi * radius**2, c='blue', alpha=0.5) \n",
    "    plt.annotate(f\"({x[i]}, {y[i]})\", (x[i], y[i]), textcoords=\"offset points\", xytext=(0,10), ha='center')\n",
    "    # s determines the size of the circle based on the area\n",
    "plt.xlabel('X')\n",
    "plt.ylabel('Y')\n",
    "plt.title('Coordinates Plot with Circles')\n",
    "plt.grid(True)\n",
    "plt.show()"
   ]
  },
  {
   "cell_type": "code",
   "execution_count": null,
   "id": "834d36c2-fbf3-490e-bc64-9543fc54c806",
   "metadata": {},
   "outputs": [],
   "source": []
  },
  {
   "cell_type": "code",
   "execution_count": null,
   "id": "23a45abd-7c10-480e-8a6c-317a7b922c58",
   "metadata": {},
   "outputs": [],
   "source": [
    "import numpy as np\n",
    "import matplotlib.pyplot as plt\n",
    "\n",
    "# Define the x and y coordinates\n",
    "x = np.array([214.0, 258.0, 252.0, 197.0, 262.0, 222.0, 240.0, 202.0, 168.0, 66.25, 138.27, 167.81, 187.21, 135.83, 98.99, 105.58, 148.68, 63.53])\n",
    "y = np.array([27.0, 22.0, 63.0, 66.0, 105.0, 99.0, 148.0, 135.0, 111.0, 250.47, 146.38, 175.7, 210.86, 201.65, 182.76, 237.44, 240.0, 206.27])\n",
    "\n",
    "# Define the rotation angle in radians (1 radian per second)\n",
    "rotation_degree = 50\n",
    "rotation_radian = rotation_degree / 360 * 2 * np.pi\n",
    "angle = rotation_radian  # 1 radian\n",
    "\n",
    "# Define the rotation matrix\n",
    "r_matrix = np.array([[np.cos(angle), -np.sin(angle)],\n",
    "                    [np.sin(angle), np.cos(angle)]])\n",
    "\n",
    "# Stack x and y into a single array of shape (2, n) where n is the number of points\n",
    "points = np.vstack((x, y))\n",
    "\n",
    "# Perform the rotation\n",
    "r_points = r_matrix @ points\n",
    "\n",
    "# Separate the rotated x and y coordinates\n",
    "r_x = r_points[0, :]\n",
    "r_y = r_points[1, :]\n",
    "\n",
    "\n",
    "radius = 18\n",
    "\n",
    "# Plot the coordinates as circles\n",
    "plt.figure(figsize=(8, 6))\n",
    "plt.axis('equal')\n",
    "plt.xlim(-300, 300)\n",
    "plt.ylim(-300, 400)\n",
    "for i in range(len(r_x)):\n",
    "    plt.scatter(r_x[i], r_y[i], s=np.pi * radius**2, c='blue', alpha=0.5) \n",
    "    plt.annotate(f\"({r_x[i]}, {r_y[i]})\", (r_x[i], r_y[i]), textcoords=\"offset points\", xytext=(0,10), ha='center')\n",
    "    # s determines the size of the circle based on the area\n",
    "plt.xlabel('X')\n",
    "plt.ylabel('Y')\n",
    "plt.title('Coordinates Plot with Circles')\n",
    "plt.grid(True)\n",
    "plt.show()"
   ]
  },
  {
   "cell_type": "code",
   "execution_count": null,
   "id": "1d8d8563-95a1-4134-bba8-62ac4cc5dbc1",
   "metadata": {},
   "outputs": [],
   "source": [
    "def got_T_check_location(A1):\n",
    "  ## A1 should like [247.5, 0]\n",
    "  import numpy as np\n",
    "  z = 19\n",
    " \n",
    "  A2_b =  (  (A1[0]-40), 0 )\n",
    "  A3_b =  (  (A1[1]+40), 0 )\n",
    "\n",
    "  x = np.array(A1[0])\n",
    "  y = np.array(A1[1])\n",
    "\n",
    "  # Define the rotation angle in radians (1 radian per second)\n",
    "  r_points = []\n",
    "  for i in [0,1]:\n",
    "    angle = 120*(i+1)   / 180 * np.pi\n",
    "     \n",
    "    # Define the rotation matrix\n",
    "    r_matrix = np.array([[np.cos(angle), -np.sin(angle)],\n",
    "                      [np.sin(angle), np.cos(angle)]])\n",
    "    # Stack x and y into a single array of shape (2, n) where n is the number of points\n",
    "    points = np.vstack((x, y))\n",
    "\n",
    "    # Perform the rotation\n",
    "    r_points.append( r_matrix @ points )\n",
    "\n",
    "  # Separate the rotated x and y coordinates\n",
    "  A2 = r_points[0]\n",
    "  A3 = r_points[1]\n",
    "  A2_fin = ( round( A2[0][0],2) , round(A2[1][0],2), z)\n",
    "  A3_fin = ( round( A3[0][0],2) , round(A3[1][0],2), z)\n",
    "  A1_fin = ( round( A1[0],1) , round(A1[1],2), z)\n",
    "  print( \"A1 location is \",A1_fin, \n",
    "         \"\\nA2 location is \",A2_fin, \n",
    "         \"\\nA3 location is \",A3_fin)\n",
    "\n",
    "  return A1_fin, A2_fin, A3_fin"
   ]
  },
  {
   "cell_type": "code",
   "execution_count": null,
   "id": "e8513acd-7a90-4060-9bba-c54716742f43",
   "metadata": {},
   "outputs": [],
   "source": [
    "A1_fin, A2_fin, A3_fin = got_T_check_location ( [247.5,0] )\n"
   ]
  },
  {
   "cell_type": "code",
   "execution_count": null,
   "id": "72f88973-b806-44a6-905c-c3c64f622aac",
   "metadata": {},
   "outputs": [],
   "source": [
    "print(r_x)\n",
    "print(r_y)"
   ]
  },
  {
   "cell_type": "code",
   "execution_count": null,
   "id": "ee54a4fd-84a4-4eb7-8949-b4ba7ed54295",
   "metadata": {},
   "outputs": [],
   "source": [
    "import numpy as np\n",
    "import matplotlib.pyplot as plt\n",
    "\n",
    "# Define the x and y coordinates\n",
    "x = np.array([214.0, 258.0, 252.0, 197.0, 262.0, 222.0, 240.0, 202.0, 168.0, 66.25, 138.27, 167.81, 187.21, 135.83, 98.99, 105.58, 148.68, 63.53])\n",
    "y = np.array([27.0, 22.0, 63.0, 66.0, 105.0, 99.0, 148.0, 135.0, 111.0, 250.47, 146.38, 175.7, 210.86, 201.65, 182.76, 237.44, 240.0, 206.27])\n",
    "\n",
    "# Define the rotation angle in radians (1 radian per second)\n",
    "rotation_degree = 30\n",
    "rotation_radian = rotation_degree / 360 * 2 * np.pi"
   ]
  },
  {
   "cell_type": "code",
   "execution_count": null,
   "id": "c0d63377-5e08-4d3a-94b4-f7917aca6bd7",
   "metadata": {},
   "outputs": [],
   "source": [
    "print(points)"
   ]
  },
  {
   "cell_type": "code",
   "execution_count": null,
   "id": "49b2c18d-436e-475e-a941-12a357edf641",
   "metadata": {},
   "outputs": [],
   "source": [
    "A = np.array(  [ [1 ,1], [1, 1] ] )\n",
    "B = [ [3, 3], [3, 3] ]\n",
    "c = A @ B"
   ]
  },
  {
   "cell_type": "code",
   "execution_count": null,
   "id": "0a47373a-d13c-4d4f-9f42-64dc8df58acf",
   "metadata": {},
   "outputs": [],
   "source": [
    "print(type(c))"
   ]
  },
  {
   "cell_type": "code",
   "execution_count": null,
   "id": "c6c9f1b1-e79f-495a-bac9-b4cadf64531c",
   "metadata": {},
   "outputs": [],
   "source": [
    "print(c)"
   ]
  },
  {
   "cell_type": "code",
   "execution_count": null,
   "id": "599a07c0-b581-49db-abc6-1fdbedc76222",
   "metadata": {},
   "outputs": [],
   "source": [
    "def rub_rotation(x, y, rotation_degree):\n",
    "  \n",
    "   # Define the rotation angle in radians (rotation_degree per second)\n",
    "   rotation_radian = rotation_degree / 360 * 2 * np.pi\n",
    "   angle = rotation_radian  # 1 radian\n",
    "\n",
    "   # Define the rotation matrix\n",
    "   r_matrix = np.array([[np.cos(angle), -np.sin(angle)],\n",
    "                    [np.sin(angle), np.cos(angle)]])\n",
    "    \n",
    "   points = np.vstack((x, y))\n",
    "\n",
    "    # Perform the rotation\n",
    "   r_points = r_matrix @ points\n",
    "\n",
    "    # Separate the rotated x and y coordinates\n",
    "   r_x = r_points[0, :]\n",
    "   r_y = r_points[1, :]\n",
    "   return r_x, r_y"
   ]
  },
  {
   "cell_type": "code",
   "execution_count": null,
   "id": "52b2b17d-b682-42f0-8c1c-12f23a10f4bc",
   "metadata": {},
   "outputs": [],
   "source": [
    "x2,y2 = rub_rotation (x, y, 90)"
   ]
  },
  {
   "cell_type": "code",
   "execution_count": null,
   "id": "065b584f-59b2-452b-990a-04a4534b54e1",
   "metadata": {},
   "outputs": [],
   "source": [
    "radius = 18\n",
    "\n",
    "# Plot the coordinates as circles\n",
    "plt.figure(figsize=(8, 6))\n",
    "plt.axis('equal')\n",
    "plt.xlim(-300, 300)\n",
    "plt.ylim(-300, 400)\n",
    "for i in range(len(x2)):\n",
    "    plt.scatter(x2[i], y2[i], s=np.pi * radius**2, c='blue', alpha=0.5) \n",
    "    plt.annotate(f\"({x2[i]}, {y2[i]})\", (x2[i], y2[i]), textcoords=\"offset points\", xytext=(0,10), ha='center')\n",
    "    # s determines the size of the circle based on the area\n",
    "plt.xlabel('X')\n",
    "plt.ylabel('Y')\n",
    "plt.title('Coordinates Plot with Circles')\n",
    "plt.grid(True)\n",
    "plt.show()"
   ]
  },
  {
   "cell_type": "markdown",
   "id": "94bc28f9-eb83-4d1a-bfb1-eb73ec62d718",
   "metadata": {},
   "source": [
    "# Print the rotation "
   ]
  },
  {
   "cell_type": "code",
   "execution_count": null,
   "id": "9bd711da-73d8-45c0-9d63-ff5c5db18ca6",
   "metadata": {},
   "outputs": [],
   "source": [
    "import sys\n",
    "\n",
    "total_degree = 0\n",
    "\n",
    "for i in list(range(1,19)):\n",
    "       total_degree += 10  # Incrementing degree by 10 in each step\n",
    "       sys.stdout.write('\\rRotation has applied for {} degree'.format(total_degree))\n",
    "       sys.stdout.flush()\n",
    "print()\n"
   ]
  },
  {
   "cell_type": "markdown",
   "id": "c58bb1a7-c399-438f-a474-28eccc73f32c",
   "metadata": {},
   "source": [
    "# Conductivity"
   ]
  },
  {
   "cell_type": "code",
   "execution_count": null,
   "id": "ab7c85a4-8069-41b8-8f90-af0f6481f3d7",
   "metadata": {},
   "outputs": [],
   "source": [
    "Conductivity_values = [100,200]\n",
    "\n",
    "\n",
    "for i in range(len(Conductivity_values)):\n",
    "    print(i+1)"
   ]
  },
  {
   "cell_type": "code",
   "execution_count": null,
   "id": "dcf8fe56-0796-4387-b8e4-622b93f71591",
   "metadata": {},
   "outputs": [],
   "source": [
    "\n",
    "import time\n",
    "for i in list(range(100)):\n",
    "  i=time.time()\n",
    "  print(i)\n"
   ]
  },
  {
   "cell_type": "code",
   "execution_count": null,
   "id": "ba3fcd55-a848-4a91-b57f-e1dbc3ffb352",
   "metadata": {},
   "outputs": [],
   "source": [
    "from dolfinx import default_scalar_type\n",
    "from dolfinx.fem import (Constant, dirichletbc, Function, FunctionSpace, \n",
    "                         form,  locate_dofs_topological)\n",
    "\n",
    "from dolfinx.fem.petsc import LinearProblem, assemble_matrix, create_vector, assemble_vector, apply_lifting, set_bc\n",
    "\n",
    "from dolfinx.io import XDMFFile, gmshio\n",
    "\n",
    "from dolfinx.mesh import create_unit_square, locate_entities, locate_entities_boundary\n",
    "\n",
    "\n",
    "from ufl import (SpatialCoordinate, TestFunction, TrialFunction,\n",
    "                 dx, grad, inner, Measure, dot, jump, FacetNormal, avg, FiniteElement, MixedElement)\n",
    "\n",
    "from mpi4py import MPI\n",
    "from petsc4py import PETSc\n",
    "\n",
    "import numpy as np\n",
    "import time\n",
    "\n",
    "\n",
    "def project(function, space):\n",
    "    p = TrialFunction(space)\n",
    "    q = TestFunction(space)\n",
    "    a = inner(p, q) * dx\n",
    "    L = inner(function, q) * dx\n",
    "    problem = LinearProblem(a, L, bcs = [])\n",
    "    return problem.solve()\n",
    "\n",
    "###############################################################################\n",
    "################################# PARAMETER ###################################\n",
    "###############################################################################\n",
    "\n",
    "# PhysicalProperties\n",
    "# density (kg.m^-3) \n",
    "rho_1 = 8000.0e-6\n",
    "rho_2 = 8000.0e-6\n",
    "# capacity (J/Kg.K)\n",
    "cp_1 = 435.0e6\n",
    "cp_2 = 435.5e6\n",
    "# conductivity (W/m.K)\n",
    "k_1 = 10.0e3\n",
    "k_2 = 10.0e3\n",
    "\n",
    "# Boundary condtions --------------------------------------------------------- \n",
    "# build plate temperature (K)\n",
    "T_plate = 353.0\n",
    "# initial temperature (K)\n",
    "T0 = 293.0\n",
    "T0_1 = 293.0\n",
    "T0_2 = 320.0\n",
    "\n",
    "# Time  ----------------------------------------------------------------------\n",
    "TotalTime = 1000.0\n",
    "\n",
    "t0=time.time()\n",
    "    \n",
    "num_steps = 50     # number of time steps\n",
    "dt = TotalTime / num_steps # time step size\n",
    "t = 0 # current time \n",
    "\n",
    "CYL_MARK = 2\n",
    "EXT_MARK = 1\n",
    "\n",
    "FACE_MARK = 1\n",
    "\n",
    "###############################################################################\n",
    "################################# Mesh ########################################\n",
    "###############################################################################\n",
    "\n",
    "with XDMFFile(MPI.COMM_WORLD, \"CYL_IN_BOX_SLICE.xdmf\", \"r\") as xdmf:\n",
    "    mesh = xdmf.read_mesh(name=\"Grid\")\n",
    "    ct = xdmf.read_meshtags(mesh, name=\"Grid\")\n",
    "    \n",
    "mesh.topology.create_connectivity(mesh.topology.dim, mesh.topology.dim - 1)\n",
    "\n",
    "with XDMFFile(MPI.COMM_WORLD, \"facet_CYL_IN_BOX_SLICE.xdmf\", \"r\") as xdmf:\n",
    "    ft = xdmf.read_meshtags(mesh, name=\"Grid\")\n",
    "    \n",
    "ds = Measure('ds', domain=mesh, subdomain_data=ft)\n",
    "\n",
    "###############################################################################\n",
    "################################# MULTIDOMAIN #################################\n",
    "###############################################################################\n",
    "\n",
    "RhoCp_values = [rho_1*cp_1,rho_2*cp_2]\n",
    "Conductivity_values = [k_1,k_2]\n",
    "Tinit_values = [T0_1,T0_2]\n",
    "\n",
    "Q = FunctionSpace(mesh, (\"DG\", 0))\n",
    "Conductivity = Function(Q)\n",
    "\n",
    "for i in range(len(Conductivity_values)):\n",
    "    cells = ct.find(i+1)\n",
    "    Conductivity.x.array[cells] = np.full_like(cells, Conductivity_values[i], dtype=default_scalar_type)\n",
    "\n",
    "RhoCp = Function(Q)\n",
    "for i in range(len(Conductivity_values)):\n",
    "    cells = ct.find(i+1)\n",
    "    RhoCp.x.array[cells] = np.full_like(cells, RhoCp_values[i], dtype=default_scalar_type)\n",
    "\n",
    "T_INIT = Function(Q)\n",
    "T_INIT.name = \"Tinit\"\n",
    "for i in range(len(Tinit_values)):\n",
    "    cells = ct.find(i+1)\n",
    "    T_INIT.x.array[cells] = np.full_like(cells, Tinit_values[i], dtype=default_scalar_type)\n",
    "\n",
    "\n",
    "###############################################################################\n",
    "################################# FORMULATION #################################\n",
    "###############################################################################\n",
    "\n",
    "# Define variational problem\n",
    "V = FunctionSpace(mesh, ('CG', 1))\n",
    "u = TrialFunction(V)\n",
    "v = TestFunction(V)\n",
    "f = Constant(mesh, PETSc.ScalarType(0))\n",
    "n = FacetNormal(mesh)\n",
    "\n",
    "\n",
    "# initialization\n",
    "Tinit = Function(V)\n",
    "Tinit.name = \"Tinit\"\n",
    "# variable, need to be projected form Q onto V\n",
    "Tinit = project(T_INIT,V)\n",
    "Tinit.name = \"Tinit\" \n",
    "\n",
    "\n",
    "xdmf = XDMFFile(mesh.comm, \"./RES/Temperature.xdmf\", \"w\")\n",
    "xdmf.write_mesh(mesh)\n",
    "\n",
    "Tinit = project(T_INIT,V)\n",
    "Tinit.name = \"Tinit\" \n",
    "\n",
    "Timp_facets = ft.find(FACE_MARK)\n",
    "Timp_dofs = locate_dofs_topological(V, mesh.topology.dim - 1, Timp_facets)\n",
    "bc = dirichletbc(default_scalar_type(T_plate), Timp_dofs, V)\n",
    "\n",
    "a = RhoCp*u*v*dx \n",
    "a += dt*dot(Conductivity*grad(u), grad(v))*dx\n",
    "\n",
    "L = (RhoCp*Tinit + dt * f) * v * dx\n",
    "\n",
    "bilinear_form = form(a)\n",
    "linear_form = form(L)\n",
    "\n",
    "A = assemble_matrix(bilinear_form, bcs=[bc])\n",
    "A.assemble()\n",
    "b = create_vector(linear_form)\n",
    "\n",
    "solver = PETSc.KSP().create(mesh.comm)\n",
    "solver.setOperators(A)\n",
    "solver.setType(PETSc.KSP.Type.PREONLY)\n",
    "solver.getPC().setType(PETSc.PC.Type.LU)\n",
    "\n",
    "# Define solution variable, and interpolate initial solution for visualization in Paraview\n",
    "sol = Function(V)\n",
    "sol.name = \"Temperature\"\n",
    "sol.interpolate(Tinit)\n",
    "\n",
    "for i in range(num_steps):\n",
    "    t += dt\n",
    "    print(\"current time is \" + str(t) + \" s\")\n",
    "    print(\"Completion is \" + str(100*(t/TotalTime))+ \" %\")\n",
    "    # Update the right hand side reusing the initial vector\n",
    "    with b.localForm() as loc_b:\n",
    "        loc_b.set(0)\n",
    "    assemble_vector(b, linear_form)\n",
    "\n",
    "    # Apply Dirichlet boundary condition to the vector\n",
    "    apply_lifting(b, [bilinear_form], [[bc]])\n",
    "    b.ghostUpdate(addv=PETSc.InsertMode.ADD_VALUES, mode=PETSc.ScatterMode.REVERSE)\n",
    "    set_bc(b, [bc])\n",
    "\n",
    "    # Solve linear problem\n",
    "    solver.solve(b, sol.vector)\n",
    "    sol.x.scatter_forward()\n",
    "\n",
    "    # Update solution at previous time step (u_n)\n",
    "    Tinit.x.array[:] = sol.x.array\n",
    "\n",
    "    # Write solution to file\n",
    "    xdmf.write_function(sol, t)\n",
    "    \n",
    "xdmf.close()"
   ]
  },
  {
   "cell_type": "code",
   "execution_count": null,
   "id": "2a233660-6cd9-4adc-9d31-841637c80946",
   "metadata": {},
   "outputs": [],
   "source": [
    "import numpy as np\n",
    "\n",
    "# Assuming A, B, and C are your matrices\n",
    "A = np.array([[15, 121, 3],\n",
    "              [4, 85, 6],\n",
    "              [78, 8, 91]])\n",
    "\n",
    "B = np.array([[1, 2, 31],\n",
    "              [42, 5, 56],\n",
    "              [7, 8, 9]])\n",
    "\n",
    "C = np.array([[91, 20, 7],\n",
    "              [6, 15, 4],\n",
    "              [3, 12, 1]])\n",
    "\n",
    "common_indices = np.intersect1d(A, C)\n",
    "D = []\n",
    "for index in common_indices:\n",
    "    rows_A, cols_A = np.where(A == index)\n",
    "    D.append( B[rows_A, cols_A] )\n",
    "D = np.concatenate(D)\n",
    "\n",
    "print(\"Common indices between A and C:\", common_indices)\n",
    "print(\"New marker is: \",D)\n",
    "\n"
   ]
  },
  {
   "cell_type": "code",
   "execution_count": null,
   "id": "e0c91608-b38b-4baf-ace1-2de407071a06",
   "metadata": {},
   "outputs": [],
   "source": [
    "E = [common_indices,  D]\n",
    "print(E)\n",
    "E = np.concatenate(E)\n",
    "print(E)"
   ]
  },
  {
   "cell_type": "code",
   "execution_count": null,
   "id": "bb6c4a2e-3d3b-44df-bd03-42c7cf0d2b40",
   "metadata": {},
   "outputs": [],
   "source": [
    "C2= np.argsort(common_indices)\n",
    "print(common_indices[C2])"
   ]
  },
  {
   "cell_type": "code",
   "execution_count": null,
   "id": "4e47a9dc-adab-45f0-8b28-d5836e5dfd01",
   "metadata": {},
   "outputs": [],
   "source": [
    "def find_elements_to_delete(A, C):\n",
    "    # elements_to_delete is B, A is less one, C is large, delete A in C\n",
    "    B = []\n",
    "    # Iterate through each element in A1\n",
    "    for element in A:\n",
    "        temp_C = C[:]\n",
    "        temp_C.remove(element)       \n",
    "        B.append(element)    \n",
    "    return B\n",
    "\n",
    "# Example usage\n",
    "A = [1, 2, 3]\n",
    "C = [1, 2, 3, 4, 5]\n",
    "result = find_elements_to_delete(A, C)\n",
    "print(\"Elements to delete from C:\", result)"
   ]
  },
  {
   "cell_type": "code",
   "execution_count": null,
   "id": "e2c6572b-095d-437b-a8e7-937991cc4012",
   "metadata": {},
   "outputs": [],
   "source": [
    "import pandas as pd\n",
    "\n",
    "# Sample temperature data\n",
    "temperature_data = [20, 22, 24, 23, 25, 21, 0, 22, 23, 24]\n",
    "\n",
    "# Create a DataFrame with time index\n",
    "time_index = pd.date_range(start='2022-01-01', periods=len(temperature_data), freq='D')\n",
    "df = pd.DataFrame({'Temperature': temperature_data}, index=time_index)\n",
    "\n",
    "# Calculate the rolling mean with a window size of 3\n",
    "rolling_mean = df['Temperature'].rolling(window=4,min_periods=4).mean()\n",
    "\n",
    "# Print the DataFrame with rolling mean\n",
    "print(rolling_mean)"
   ]
  },
  {
   "cell_type": "markdown",
   "id": "4cc9d8a7-0ea9-4214-8cd2-30a2c51289a0",
   "metadata": {},
   "source": [
    "# Find temperature locations\n"
   ]
  },
  {
   "cell_type": "code",
   "execution_count": null,
   "id": "73fcd555-5c29-4493-bb0b-85e3d4540ac0",
   "metadata": {},
   "outputs": [],
   "source": [
    "import os\n",
    "import shutil\n",
    "import pandas as pd\n",
    "import re\n",
    "import sys\n",
    "import matplotlib.pyplot as plt\n",
    "import numpy as np\n",
    "\n",
    "#sys.path.append('/home/yanjun/documents/fenicsx/project/therm_disc/implicit/tetrahedron/')\n",
    "sys.path.append('/home/yanjun/documents/fenicsx/project/therm_disc/implicit/tetrahedron//')\n",
    "from disc_f import *\n",
    "#mesh_filename1 = '/home/yanjun/documents/fenicsx/project/therm_disc/implicit/tetrahedron/m-3-2.msh'\n",
    "mesh_filename1 = '/home/yanjun/documents/fenicsx/project/therm_disc/implicit/tetrahedron//m-3-2.msh'\n",
    "lables = find_3_coord(mesh_filename1)\n",
    "# T_3_labels = 333431, 308947, 18936   # 1-2 mesh\n",
    "# for i in range(len(T)):\n",
    "#   print( T[i][T_3_labels[1]] )"
   ]
  },
  {
   "cell_type": "markdown",
   "id": "6c09590a-a257-43e9-9cd2-174275e9ae71",
   "metadata": {},
   "source": [
    "# Curve fit"
   ]
  },
  {
   "cell_type": "code",
   "execution_count": null,
   "id": "bc87a4e6-7081-4822-b359-0828e7b055f4",
   "metadata": {},
   "outputs": [],
   "source": [
    "import numpy as np\n",
    "import matplotlib.pyplot as plt\n",
    "from scipy.optimize import curve_fit\n",
    "import pandas as pd\n",
    "\n",
    "df1 = pd.read_csv('/home/yanjun/documents/sim_results/experiment_result.csv')\n",
    "T_e_ave = ( df1.iloc[:,1] + df1.iloc[:,3] + df1.iloc[:,5] ) /3\n",
    "t_e = np.linspace (0, 49, len(T_e_ave) )\n",
    "\n",
    "# Example data for the blue line (this should be your actual data)\n",
    "x_data = t_e\n",
    "y_data = T_e_ave\n",
    "\n",
    "\n",
    "# Define the logistic (sigmoid) function\n",
    "def sigmoid(x, L, x0, k, b):\n",
    "    return L / (1 + np.exp(-k * (x - x0))) + b\n",
    "\n",
    "# Fit the sigmoid function to the data\n",
    "popt, _ = curve_fit(sigmoid, x_data, y_data, p0=[220, 7, 1, 60])\n",
    "\n",
    "# Generate points for the fitted curve\n",
    "x_fit = np.linspace(0, 13, 100)\n",
    "y_fit = sigmoid(x_fit, *popt)\n",
    "\n",
    "# Plot the original data and the fitted curve\n",
    "plt.plot(x_data, y_data, 'bo', label='Data (Blue Line)')\n",
    "plt.plot(x_fit, y_fit, 'r-', label='Fitted Sigmoid Curve')\n",
    "plt.legend()\n",
    "plt.xlabel('X')\n",
    "plt.ylabel('Y')\n",
    "plt.title('Sigmoid Fit to the Blue Line')\n",
    "plt.show()\n",
    "\n",
    "# Print the parameters of the fit\n",
    "print(\"Parameters for the sigmoid fit:\", popt)\n"
   ]
  },
  {
   "cell_type": "code",
   "execution_count": null,
   "id": "354dcd2d-db68-4ac3-846d-cec941daeebd",
   "metadata": {},
   "outputs": [],
   "source": [
    "mesh = Mesh()\n",
    "with XDMFFile(\"tetra_mesh.xdmf\") as infile:\n",
    "    infile.read(mesh)"
   ]
  },
  {
   "cell_type": "markdown",
   "id": "d2fd07e8-ef9e-489a-951f-01f09b529dc8",
   "metadata": {},
   "source": [
    "# Mesh pad\n"
   ]
  },
  {
   "cell_type": "code",
   "execution_count": null,
   "id": "3d8a19cb-fd3f-4593-a1e0-cc088688fdd9",
   "metadata": {},
   "outputs": [],
   "source": [
    "import sys\n",
    "sys.path.append('/home/yanjun/documents/fenicsx/mech_disc/')\n",
    "from disc_f import *\n",
    "c = mesh_brake_pad(3,17,\"3-17\",\"tetra\")"
   ]
  },
  {
   "cell_type": "code",
   "execution_count": null,
   "id": "f51a9a06-00a2-4b6f-8daf-5f42328a9f3d",
   "metadata": {},
   "outputs": [],
   "source": [
    "import sys\n",
    "sys.path.append('/home/yanjun/documents/fenicsx/mech_disc/')\n",
    "from disc_f import *\n",
    "import gmsh\n",
    "import sys\n",
    "import math\n",
    "import os\n",
    "import numpy as np\n",
    "\n",
    "min_mesh, max_mesh = 3,16\n",
    "filename = str(min_mesh)+str(max_mesh)\n",
    "\n",
    "gmsh.initialize()\n",
    "\n",
    "z1, z2, z3 = 20, 33, 30\n",
    "rd_o, rd_i = 320, 175 \n",
    "r_rub      = 18.8\n",
    "rp_o, rp_i = 303, 178\n",
    "    \n",
    "angle1 = 80\n",
    "angle = angle1 / 360 * 2 * math.pi\n",
    "\n",
    "# rubbing elements\n",
    "x_co, y_co = get_rub_coordinate()\n",
    "    \n",
    "rub_list = []\n",
    "for i, (x, y) in enumerate(zip(x_co, y_co), start=1):\n",
    "       var_name = f\"rub{i}\"\n",
    "       tag = gmsh.model.occ.addCylinder(x, y, z1, 0, 0, z2, r_rub)\n",
    "       globals()[var_name] = tag\n",
    "       rub_list.append(globals()[var_name])\n",
    "gmsh.model.occ.synchronize()\n",
    "\n",
    "# brake pad, in [(3, )],3 means dimension, cut the common place, out - inner\n",
    "outer_pad  = gmsh.model.occ.addCylinder(0,0,z1+z2,  0, 0, z3,  rp_o, 50, angle)\n",
    "inner_pad  = gmsh.model.occ.addCylinder(0,0,z1+z2,  0, 0, z3,  rp_i, 51, angle)\n",
    "pad = gmsh.model.occ.cut([(3, outer_pad)], [(3, inner_pad)]) \n",
    "gmsh.model.occ.synchronize()\n",
    "\n",
    "# Initialize the shell with the first rub\n",
    "rub_list = [rub1, rub2, rub3, rub4, rub5, rub6, rub7, \n",
    "                rub8, rub9, rub10, rub11, rub12, rub13, rub14, rub15, rub16, rub17, rub18]\n",
    "shell = gmsh.model.occ.fuse([(3, outer_pad)], [(3, rub_list[0])], 70)  #70 is the name tag for shell  \n",
    "\n",
    "for i in range(len(rub_list) - 1):\n",
    "    shell = gmsh.model.occ.fuse([(3, 70 + i)], [(3, rub_list[i + 1])], 71 + i)\n",
    "gmsh.model.occ.synchronize()\n",
    "    \n",
    "# Volumes: 32 brake pad.\n",
    "volumes = gmsh.model.occ.getEntities(dim = 3)\n",
    "gmsh.model.addPhysicalGroup(3, volumes[0],  32)\n",
    "\n",
    "surfaces = gmsh.model.occ.getEntities(dim = 2)\n",
    "#gmsh.model.addPhysicalGroup(2, (2,2), 21)  #surface name\n",
    "\n",
    "# Rubbing elements, from 1 to 19, here 32 is the origin name tag of rub surface(32-49)\n",
    "rublist = list(range(25,43))\n",
    "for rub in rublist:\n",
    "       gmsh.model.addPhysicalGroup(2, (0,rub), rub-24)\n",
    "gmsh.model.occ.synchronize()\n",
    "\n",
    "# Sinter material, 200 cm2, 18 rubbing elemets, r = 1.88 cm\n",
    "gmsh.option.setNumber(\"Mesh.MeshSizeMin\", min_mesh)\n",
    "gmsh.option.setNumber(\"Mesh.MeshSizeMax\", max_mesh)\n",
    "    \n",
    "# Mesh file save\n",
    "gmsh.model.mesh.generate(3)\n",
    "gmsh.write(filename + \".msh\")\n",
    "notice = print(\"NOTICE:\" + filename + \" has been meshed successfully and saved as \" + filename + \".msh\")   \n",
    "gmsh.finalize()\n",
    "\n",
    "\n",
    "from dolfinx.io import gmshio\n",
    "from mpi4py import MPI\n",
    "import pyvista\n",
    "from dolfinx import plot\n",
    "\n",
    "# try a 3d mesh from gmsh, it works\n",
    "domain, cell_markers, facet_markers = gmshio.read_from_msh(filename + \".msh\", MPI.COMM_WORLD, 0, gdim=3)\n",
    "gdim = 3\n",
    "tdim = gdim -1 \n",
    "pyvista.start_xvfb()\n",
    "# below gdim change to tdim is plot for 2D\n",
    "topology, cell_types, geometry = plot.vtk_mesh(domain, gdim)\n",
    "\n",
    "grid = pyvista.UnstructuredGrid(topology, cell_types, geometry)\n",
    "plotter = pyvista.Plotter()\n",
    "plotter.add_mesh(grid, show_edges=True)\n",
    "plotter.view_xz()\n",
    "\n",
    "plotter.show()\n"
   ]
  },
  {
   "cell_type": "markdown",
   "id": "c09e5f10-dac3-4be3-a32f-9c4a4443d9c9",
   "metadata": {},
   "source": [
    "# Scatter plot for brake disc temperature"
   ]
  },
  {
   "cell_type": "code",
   "execution_count": 1,
   "id": "025c585d-4c8f-44ef-8b16-c243aee2d481",
   "metadata": {},
   "outputs": [
    {
     "ename": "NameError",
     "evalue": "name 'plt' is not defined",
     "output_type": "error",
     "traceback": [
      "\u001b[0;31m---------------------------------------------------------------------------\u001b[0m",
      "\u001b[0;31mNameError\u001b[0m                                 Traceback (most recent call last)",
      "Cell \u001b[0;32mIn[1], line 1\u001b[0m\n\u001b[0;32m----> 1\u001b[0m plt\u001b[38;5;241m.\u001b[39mscatter(mesh_points[:, \u001b[38;5;241m0\u001b[39m], mesh_points[:, \u001b[38;5;241m1\u001b[39m], c\u001b[38;5;241m=\u001b[39mfunction_values,  cmap\u001b[38;5;241m=\u001b[39m\u001b[38;5;124m'\u001b[39m\u001b[38;5;124mhot\u001b[39m\u001b[38;5;124m'\u001b[39m)\n\u001b[1;32m      2\u001b[0m plt\u001b[38;5;241m.\u001b[39mcolorbar(label\u001b[38;5;241m=\u001b[39m\u001b[38;5;124m'\u001b[39m\u001b[38;5;124mTemperature\u001b[39m\u001b[38;5;124m'\u001b[39m)\n\u001b[1;32m      3\u001b[0m plt\u001b[38;5;241m.\u001b[39mxlabel(\u001b[38;5;124m'\u001b[39m\u001b[38;5;124mX coordinate\u001b[39m\u001b[38;5;124m'\u001b[39m)\n",
      "\u001b[0;31mNameError\u001b[0m: name 'plt' is not defined"
     ]
    }
   ],
   "source": [
    "plt.scatter(mesh_points[:, 0], mesh_points[:, 1], c=function_values,  cmap='hot')\n",
    "plt.colorbar(label='Temperature')\n",
    "plt.xlabel('X coordinate')\n",
    "plt.ylabel('Y coordinate')\n",
    "plt.title('Temperature Distribution')\n",
    "plt.show()"
   ]
  },
  {
   "cell_type": "code",
   "execution_count": null,
   "id": "7dcc4cbd-8877-4502-adcf-ffb2bd8ef1e1",
   "metadata": {},
   "outputs": [],
   "source": []
  }
 ],
 "metadata": {
  "kernelspec": {
   "display_name": "Python 3 (ipykernel)",
   "language": "python",
   "name": "python3"
  },
  "language_info": {
   "codemirror_mode": {
    "name": "ipython",
    "version": 3
   },
   "file_extension": ".py",
   "mimetype": "text/x-python",
   "name": "python",
   "nbconvert_exporter": "python",
   "pygments_lexer": "ipython3",
   "version": "3.12.2"
  }
 },
 "nbformat": 4,
 "nbformat_minor": 5
}
