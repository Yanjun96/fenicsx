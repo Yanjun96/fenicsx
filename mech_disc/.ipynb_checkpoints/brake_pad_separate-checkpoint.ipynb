{
 "cells": [
  {
   "cell_type": "markdown",
   "metadata": {},
   "source": [
    "## Concise: 1: Start and mesh\n",
    "Author: yanjun zhang, Source from book \"Abali - 2017 - Computational Reality\" P119"
   ]
  },
  {
   "cell_type": "code",
   "execution_count": null,
   "metadata": {},
   "outputs": [],
   "source": [
    "from disc_f import *\n",
    "\n",
    "# mesh-size, contact area coefficient\n",
    "mesh_min, mesh_max = 3, 5\n",
    "c_contact          = 1\n",
    "# Each time step rotation angular, and acc during lag, 1 is full acc, 0 is no acc.\n",
    "angular_r          = 224\n",
    "v_vehicle, c_acc   = 160, 1\n",
    "z1,z2,z3,z_all     = 20,33,30,8\n",
    "pad_v_tag          = 32\n",
    "# calling local functions to get all parameters\n",
    "(dt, P, g, num_steps, h, radiation, v_angular, Ti, Tm, S_rub_circle, t, rho, c, k, t_brake, \n",
    "S_total,) = vehicle_initial (angular_r, v_vehicle, c_contact, c_acc)\n",
    "print(\"1: Total braking tims is \", round(sum(dt), 2), \"s\")\n",
    "print(\"2: Total numb steps is \", num_steps)\n",
    "\n",
    "## here use lots of abbreviation, details are in disc_f\n",
    "domain, cell_markers, facet_amrkers, mesh_name, mesh_name1, mesh_name2 \\\n",
    "                       = mesh_brake_all(mesh_min,mesh_max,pad_v_tag)\n",
    "V, T_init, u_n         = initial_u_n(domain, Ti)\n",
    "fdim, bc, mesh_brake, all_e,xdmf, x_co, y_co, ds, b_con \\\n",
    "                       = mesh_setup(domain, V,mesh_name1,num_steps, \\\n",
    "                         angular_r, mesh_name2, c_contact,z_all,Tm, S_rub_circle)\n",
    "# Initialize\n",
    "problem,u,v,f,n_vector = variation_initial(V, T_init,domain, rho, c, b_con,\\\n",
    "                          radiation, h, k, xdmf,dt,ds,u_n, Tm,g,bc);\n",
    "n,converged = solver_setup_solve(problem,u)\n",
    "## Visualization of time dependent problem using pyvista\n",
    "gif_name    = \"T-s-{}-d-{}-{}-c-{}-e-{}.gif\".format(num_steps, angular_r, mesh_name2, c_contact, all_e)\n",
    "plotter, sargs, renderer, warped, viridis, grid = plot_gif(V,u,gif_name)\n",
    "##solve\n",
    "num_steps= int(num_steps/20)\n",
    "T_array     = solve_heat(Ti, u, num_steps, dt, x_co, y_co, angular_r,t_brake, \\\n",
    "                     domain,S_rub_circle,fdim, rho, c, v, radiation, k, h, \\\n",
    "                     f,Tm,u_n,g, ds, xdmf, b_con,bc,plotter,warped)\n",
    "csv_name    = \"Result_T-s-{}-d-{}-{}-c-{}-e-{}.csv\".format(num_steps, angular_r, mesh_name2, c_contact, all_e  )\n",
    "# got the Temperature data\n",
    "save_t_T(csv_name, T_array)\n",
    "\n",
    "from IPython.display import display, Image\n",
    "display(Image(gif_name))"
   ]
  },
  {
   "cell_type": "markdown",
   "metadata": {},
   "source": [
    "# 2: New brake pad points, add boundary for rubbing elements"
   ]
  },
  {
   "cell_type": "code",
   "execution_count": null,
   "metadata": {},
   "outputs": [],
   "source": [
    "## plot the temperature\n",
    "mesh_n_pad = mesh_del_disc(mesh_name1, \"new_pad.msh\")\n",
    "T_new_p, pad_node_coordinates  = T_pad_transfer1( mesh_name1, mesh_n_pad, u_n, mesh_brake, pad_v_tag )\n",
    "domain_pad, cell_mark_pad, facet_mark_pad = gmshio.read_from_msh( mesh_n_pad , MPI.COMM_WORLD, 0, gdim=3 )\n",
    "plot_T_pad( domain_pad, T_new_p).show()\n",
    "\n",
    "# defin the pad domain\n",
    "VT      = fem.functionspace(domain_pad, (\"CG\", 1))         #define the finite element function space\n",
    "Delta_T = fem.Function(VT, name =\"Temperature_variation\")  # T_ is the test function, like v\n",
    "for i in range(len(T_new_p)):\n",
    "    Delta_T.vector.array[i] = T_new_p[i]\n",
    "\n",
    "#######try to make domain only for brake pad.\n",
    "E    = fem.Constant(domain_pad, 50e3)             # Elastic module\n",
    "nu   = fem.Constant(domain_pad, 0.2)              # Poission ratio\n",
    "gdim = domain_pad.geometry.dim\n",
    "\n",
    "mu    = E / 2 / (1 + nu)                          # Shear modulus\n",
    "lmbda = E * nu / (1 + nu) / (1 - 2 * nu)          # Lame parameters\n",
    "alpha = fem.Constant(domain_pad, 1e-5)            # Thermal expansion coefficient\n",
    "f1    = fem.Constant(domain_pad, (0.0, 0.0, 0.0)) # O for external force\n",
    "\n",
    "def eps(v):                                       # epsilon, strain, the deforamtion, dy/y \n",
    "    return ufl.sym(ufl.grad(v))\n",
    "def sigma(v, Delta_T):                            # sigmathis is sigma\n",
    "    return (lmbda * ufl.tr(eps(v)) - alpha * (3 * lmbda + 2 * mu) * Delta_T \n",
    "    ) * ufl.Identity(gdim)  + 2.0 * mu * eps(v)   # here braces is important, can not be in above line\n",
    "\n",
    "Vu = fem.functionspace(domain_pad, (\"CG\", 1, (gdim,))) \n",
    "du = ufl.TrialFunction(Vu)\n",
    "u_ = ufl.TestFunction(Vu)\n",
    "\n",
    "Wint = ufl.inner(sigma(du, Delta_T), eps(u_)) * ufl.dx  # here du is unkown\n",
    "aM   = ufl.lhs(Wint)                                    # Wint is long and lhs can help to distinguish unkown and know.\n",
    "LM   = ufl.rhs(Wint) + ufl.inner(f1, u_) * ufl.dx       # knows parameters are in lhs\n",
    "\n",
    "def up_side(x):\n",
    "    return np.isclose(x[2], (z1+z2+z3))\n",
    "\n",
    "up_dofs_u = fem.locate_dofs_geometrical(Vu, up_side)   # lateral sides of domain\n",
    "bcu       = [fem.dirichletbc(np.zeros((gdim,)), up_dofs_u, Vu)]  # displacement Vu is fixed in lateral sides\n",
    "\n",
    "u_d     = fem.Function(Vu, name=\"Displacement\")\n",
    "problem = fem.petsc.LinearProblem(aM, LM, u=u_d, bcs=bcu)\n",
    "problem.solve()\n",
    "\n",
    "scale_factor = 100\n",
    "plot_s_pad = plot_S_pad(Vu,u_d,scale_factor )\n",
    "plot_s_pad.show()\n"
   ]
  },
  {
   "cell_type": "markdown",
   "metadata": {},
   "source": [
    "## have one booundary"
   ]
  },
  {
   "cell_type": "code",
   "execution_count": null,
   "metadata": {},
   "outputs": [],
   "source": []
  },
  {
   "cell_type": "markdown",
   "metadata": {},
   "source": [
    "## Plot contact information"
   ]
  },
  {
   "cell_type": "code",
   "execution_count": null,
   "metadata": {},
   "outputs": [],
   "source": [
    "# Visualizing the displacement profile in the z-direction\n",
    "plt.plot(u_d.x.array[2::3])\n",
    "plt.title(\"Displacement in z-direction\")\n",
    "plt.xlabel(\"Node Index\")\n",
    "plt.ylabel(\"Displacement (z-direction)\")\n",
    "plt.grid()\n",
    "plt.show()\n",
    "\n",
    "# Identify contact areas and plot them\n",
    "contact_nodes = np.where(u_d.x.array[2::3] >= z1)[0]  # Nodes in contact with the surface at z1\n",
    "contact_coordinates = pad_node_coordinates[contact_nodes]  # Get the coordinates of contact nodes\n",
    "\n",
    "# Plotting contact nodes\n",
    "plt.scatter(contact_coordinates[:, 0], contact_coordinates[:, 1], label=\"Contact Nodes\", c='red', s=10)\n",
    "plt.title(\"Contact Area on Brake Pad\")\n",
    "plt.xlabel(\"X Coordinate\")\n",
    "plt.ylabel(\"Y Coordinate\")\n",
    "plt.grid()\n",
    "plt.legend()\n",
    "plt.show()"
   ]
  },
  {
   "cell_type": "code",
   "execution_count": null,
   "metadata": {},
   "outputs": [],
   "source": []
  }
 ],
 "metadata": {
  "jupytext": {
   "formats": "ipynb,py:light"
  },
  "kernelspec": {
   "display_name": "Python 3 (ipykernel)",
   "language": "python",
   "name": "python3"
  },
  "language_info": {
   "codemirror_mode": {
    "name": "ipython",
    "version": 3
   },
   "file_extension": ".py",
   "mimetype": "text/x-python",
   "name": "python",
   "nbconvert_exporter": "python",
   "pygments_lexer": "ipython3",
   "version": "3.12.2"
  }
 },
 "nbformat": 4,
 "nbformat_minor": 4
}
