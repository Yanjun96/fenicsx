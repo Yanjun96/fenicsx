{
 "cells": [
  {
   "cell_type": "markdown",
   "metadata": {},
   "source": [
    "## Concise: 1: Start and mesh\n",
    "Author: yanjun zhang, Source from book \"Abali - 2017 - Computational Reality\" P119"
   ]
  },
  {
   "cell_type": "code",
   "execution_count": null,
   "metadata": {},
   "outputs": [],
   "source": [
    "from disc_f import *\n",
    "\n",
    "# mesh-size, contact area coefficient\n",
    "mesh_min, mesh_max = 3, 5\n",
    "c_contact          = 1\n",
    "\n",
    "# Each time step rotation angular, and acc during lag, 1 is full acc, 0 is no acc.\n",
    "angular_r          = 224\n",
    "v_vehicle, c_acc   = 160, 1\n",
    "z1,z2,z3,z4,z_all  = 20,33,30,83,8\n",
    "pad_v_tag          = 32\n",
    "alpha_thermal      = 1e-5 #thermal expansion coefficient\n",
    "penalty_param      = 400\n",
    "# calling local functions to get all parameters\n",
    "(dt, P, g, num_steps, h, radiation, v_angular, \\\n",
    " Ti, Tm, S_rub_circle_ini, t, rho, c, k, t_brake, \n",
    "S_total,)                                       = vehicle_initial (angular_r, v_vehicle, c_contact, c_acc)\n",
    "print(\"1: Total braking tims is \", round(sum(dt), 2), \"s\")\n",
    "print(\"2: Total numb steps is \", num_steps)\n",
    "\n",
    "## here use lots of abbreviation, details are in disc_f\n",
    "domain, cell_markers, facet_markers, mesh_name, mesh_name1, mesh_name2 \\\n",
    "                       = mesh_brake_all(mesh_min,mesh_max,pad_v_tag)\n",
    "\n",
    "V, T_init, u_n         = initial_u_n(domain, Ti)\n",
    "\n",
    "fdim, bc, mesh_brake, all_e,xdmf, x_co, y_co, ds, b_con \\\n",
    "                       = mesh_setup( domain, V, mesh_name1, num_steps, \\\n",
    "                         angular_r, mesh_name2, c_contact, z_all, Tm, S_rub_circle_ini)\n",
    "# Initialize\n",
    "problem, u, v, f, n_vector = variation_initial(V, T_init, domain, rho, c, b_con,\\\n",
    "                          radiation, h, k, xdmf, dt, ds, u_n, Tm,g,bc);\n",
    "solver_setup_solve(problem,u)\n",
    "\n",
    "## Visualization of time dependent problem using pyvista\n",
    "gif_name    = \"T-s-{}-d-{}-{}-c-{}-e-{}.gif\".format(num_steps, angular_r, mesh_name2, c_contact, all_e)\n",
    "plotter, sargs, renderer, warped, viridis, grid = plot_gif(V,u,gif_name)\n",
    "##solve\n",
    "#num_steps= int(num_steps/2)\n",
    "num_steps= int(10)\n",
    " \n",
    "###################################################################\n",
    "x_co_zone   = 0.001\n",
    "\n",
    "T_array,fraction_c,deformed_co,u_d1   = solve_heat(Ti, u, num_steps, dt, x_co, y_co, angular_r, \\\n",
    "               t_brake, domain, S_rub_circle_ini, fdim,\\\n",
    "               rho, c, v, radiation, k, h, f, Tm, g,\\\n",
    "               ds, xdmf, b_con, bc, plotter, warped,\\\n",
    "               mesh_name1, mesh_brake, pad_v_tag, z4,\\\n",
    "               z1, x_co_zone, u_n, alpha_thermal, penalty_param)  #last u should be u_n, here we set u, \\\n",
    "#the same with previous:solver_setup_solve(problem,u)\n",
    "####################################################################\n",
    "\n",
    "csv_name    = \"Result_T-s-{}-d-{}-{}-c-{}-e-{}.csv\".format(num_steps, angular_r, mesh_name2, c_contact, all_e  )\n",
    "save_t_T(csv_name, T_array) # got the Temperature data\n",
    "\n",
    "from IPython.display import display, Image\n",
    "display(Image(gif_name))"
   ]
  },
  {
   "cell_type": "code",
   "execution_count": null,
   "metadata": {},
   "outputs": [],
   "source": [
    "plt.plot(fraction_c)\n",
    "plt.title (f\"Contact zone is {x_co_zone} mm\")\n",
    "#plt.ylim(0,1.5)\n",
    "plt.xlabel(\"num_steps\")\n",
    "plt.ylabel(\"contact percentage\")\n",
    "plt.savefig(\"new_figure.png\")"
   ]
  },
  {
   "cell_type": "code",
   "execution_count": null,
   "metadata": {},
   "outputs": [],
   "source": []
  },
  {
   "cell_type": "code",
   "execution_count": null,
   "metadata": {},
   "outputs": [],
   "source": [
    "print(fraction_c)"
   ]
  },
  {
   "cell_type": "code",
   "execution_count": null,
   "metadata": {},
   "outputs": [],
   "source": [
    "c = \"13.75471621 13.81682068 13.83955223 13.63462914 13.44544539 13.55601753 \\\n",
    " 13.21716208 13.09617667 13.39929223 13.75428942 13.73374416 13.32734775 \\\n",
    " 13.92649849 13.74549636 13.8370272  13.09442572 13.31917634 13.44186209\"\n",
    "d = c.split()\n",
    "print(d)\n",
    "e = []\n",
    "for i in range(len(d)):\n",
    "   e.append( float( d[i]) )\n",
    "print(e)\n",
    "f = list( map(float, d) )\n",
    "print(18.8 - np.mean(f) )\n"
   ]
  }
 ],
 "metadata": {
  "jupytext": {
   "formats": "ipynb,py:light"
  },
  "kernelspec": {
   "display_name": "Python 3 (ipykernel)",
   "language": "python",
   "name": "python3"
  },
  "language_info": {
   "codemirror_mode": {
    "name": "ipython",
    "version": 3
   },
   "file_extension": ".py",
   "mimetype": "text/x-python",
   "name": "python",
   "nbconvert_exporter": "python",
   "pygments_lexer": "ipython3",
   "version": "3.12.2"
  }
 },
 "nbformat": 4,
 "nbformat_minor": 4
}
