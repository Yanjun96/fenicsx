{
 "cells": [
  {
   "cell_type": "markdown",
   "metadata": {},
   "source": [
    "## Concise: 1: Start and mesh\n",
    "Author: yanjun zhang, Source from book \"Abali - 2017 - Computational Reality\" P119"
   ]
  },
  {
   "cell_type": "code",
   "execution_count": 1,
   "metadata": {},
   "outputs": [
    {
     "name": "stdout",
     "output_type": "stream",
     "text": [
      "DOLFINx version: 0.8.0\n",
      "Simulation environment setup complete.\n",
      "1: Total braking tims is  49.89 s\n",
      "2: Total numb steps is  608\n",
      "The file 'm-3-5.msh' exists, start creat now:\n",
      "\n"
     ]
    },
    {
     "ename": "TypeError",
     "evalue": "solve_heat() missing 8 required positional arguments: 'mesh_brake', 'pad_v_tag', 'z4', 'z1', 'x_co_zone', 'u_n', 'alpha_thermal', and 'penalty_param'",
     "output_type": "error",
     "traceback": [
      "\u001b[0;31m---------------------------------------------------------------------------\u001b[0m",
      "\u001b[0;31mTypeError\u001b[0m                                 Traceback (most recent call last)",
      "Cell \u001b[0;32mIn[1], line 36\u001b[0m\n\u001b[1;32m     32\u001b[0m \u001b[38;5;66;03m##solve\u001b[39;00m\n\u001b[1;32m     33\u001b[0m \u001b[38;5;66;03m#num_steps= int(num_steps/10/6)\u001b[39;00m\n\u001b[1;32m     34\u001b[0m num_steps\u001b[38;5;241m=\u001b[39m \u001b[38;5;28mint\u001b[39m(\u001b[38;5;241m10\u001b[39m) \u001b[38;5;66;03m# just do one step to check the deformation.\u001b[39;00m\n\u001b[0;32m---> 36\u001b[0m T_array     \u001b[38;5;241m=\u001b[39m solve_heat(Ti, u, num_steps, dt, x_co, y_co, angular_r,t_brake, \\\n\u001b[1;32m     37\u001b[0m                      domain,S_rub_circle,fdim, rho, c, v, radiation, k, h, \\\n\u001b[1;32m     38\u001b[0m                      f,Tm,u_n,g, ds, xdmf, b_con,bc,plotter,warped)\n\u001b[1;32m     40\u001b[0m csv_name    \u001b[38;5;241m=\u001b[39m \u001b[38;5;124m\"\u001b[39m\u001b[38;5;124mResult_T-s-\u001b[39m\u001b[38;5;132;01m{}\u001b[39;00m\u001b[38;5;124m-d-\u001b[39m\u001b[38;5;132;01m{}\u001b[39;00m\u001b[38;5;124m-\u001b[39m\u001b[38;5;132;01m{}\u001b[39;00m\u001b[38;5;124m-c-\u001b[39m\u001b[38;5;132;01m{}\u001b[39;00m\u001b[38;5;124m-e-\u001b[39m\u001b[38;5;132;01m{}\u001b[39;00m\u001b[38;5;124m.csv\u001b[39m\u001b[38;5;124m\"\u001b[39m\u001b[38;5;241m.\u001b[39mformat(num_steps, angular_r, mesh_name2, c_contact, all_e  )\n\u001b[1;32m     41\u001b[0m \u001b[38;5;66;03m# got the Temperature data\u001b[39;00m\n",
      "\u001b[0;31mTypeError\u001b[0m: solve_heat() missing 8 required positional arguments: 'mesh_brake', 'pad_v_tag', 'z4', 'z1', 'x_co_zone', 'u_n', 'alpha_thermal', and 'penalty_param'"
     ]
    }
   ],
   "source": [
    "from disc_f_core import *\n",
    "\n",
    "# mesh-size, contact area coefficient\n",
    "mesh_min, mesh_max = 3, 5\n",
    "c_contact          = 1\n",
    "# Each time step rotation angular, and acc during lag, 1 is full acc, 0 is no acc.\n",
    "angular_r          = 224\n",
    "v_vehicle, c_acc   = 160, 1\n",
    "z1,z2,z3,z_all     = 20,33,30,8\n",
    "pad_v_tag          = 32\n",
    "# calling local functions to get all parameters\n",
    "(dt, P, g, num_steps, h, radiation, v_angular, Ti, Tm, S_rub_circle, t, rho, c, k, t_brake, \n",
    "S_total,) = vehicle_initial (angular_r, v_vehicle, c_contact, c_acc)\n",
    "print(\"1: Total braking tims is \", round(sum(dt), 2), \"s\")\n",
    "print(\"2: Total numb steps is \", num_steps)\n",
    "\n",
    "## here use lots of abbreviation, details are in disc_f\n",
    "domain, cell_markers, facet_markers, mesh_name, mesh_name1, mesh_name2 \\\n",
    "                       = mesh_brake_all(mesh_min,mesh_max,pad_v_tag)\n",
    "V, T_init, u_n         = initial_u_n(domain, Ti)\n",
    "fdim, bc, mesh_brake, all_e,xdmf, x_co, y_co, ds, b_con \\\n",
    "                       = mesh_setup(domain, V,mesh_name1,num_steps, \\\n",
    "                         angular_r, mesh_name2, c_contact,z_all,Tm, S_rub_circle)\n",
    "# Initialize\n",
    "problem,u,v,f,n_vector = variation_initial(V, T_init,domain, rho, c, b_con,\\\n",
    "                          radiation, h, k, xdmf,dt,ds,u_n, Tm,g,bc);\n",
    "n,converged = solver_setup_solve(problem,u)\n",
    "\n",
    "## Visualization of time dependent problem using pyvista\n",
    "gif_name    = \"T-s-{}-d-{}-{}-c-{}-e-{}.gif\".format(num_steps, angular_r, mesh_name2, c_contact, all_e)\n",
    "plotter, sargs, renderer, warped, viridis, grid = plot_gif(V,u,gif_name)\n",
    "##solve\n",
    "#num_steps= int(num_steps/10/6)\n",
    "num_steps= int(10) # just do one step to check the deformation.\n",
    "\n",
    "T_array     = solve_heat(Ti, u, num_steps, dt, x_co, y_co, angular_r,t_brake, \\\n",
    "                     domain,S_rub_circle,fdim, rho, c, v, radiation, k, h, \\\n",
    "                     f,Tm,u_n,g, ds, xdmf, b_con,bc,plotter,warped,\\\n",
    "                         mesh_name1, mesh_brake, pad_v_tag, z4,\\\n",
    "               z1, x_co_zone, u_n, alpha_thermal, penalty_param )\n",
    "\n",
    "csv_name    = \"Result_T-s-{}-d-{}-{}-c-{}-e-{}.csv\".format(num_steps, angular_r, mesh_name2, c_contact, all_e  )\n",
    "# got the Temperature data\n",
    "save_t_T(csv_name, T_array)\n",
    "\n",
    "from IPython.display import display, Image\n",
    "display(Image(gif_name))"
   ]
  },
  {
   "cell_type": "markdown",
   "metadata": {},
   "source": [
    "# 2: New brake pad points, add boundary for rubbing elements"
   ]
  },
  {
   "cell_type": "code",
   "execution_count": null,
   "metadata": {},
   "outputs": [],
   "source": [
    "## plot the temperature\n",
    "mesh_n_pad = mesh_del_disc(mesh_name1, \"new_pad.msh\")\n",
    "T_new_p, pad_node_coordinates  = T_pad_transfer1( mesh_name1, mesh_n_pad, u_n, mesh_brake, pad_v_tag )\n",
    "domain_pad, cell_mark_pad, facet_mark_pad = gmshio.read_from_msh( mesh_n_pad , MPI.COMM_WORLD, 0, gdim=3 )\n",
    "plot_T_pad( domain_pad, T_new_p).show()\n",
    "\n",
    "# defin the pad domain\n",
    "VT      = fem.functionspace(domain_pad, (\"CG\", 1))         #define the finite element function space\n",
    "Delta_T = fem.Function(VT, name =\"Temperature_variation\")  # T_ is the test function, like v\n",
    "\n",
    "plt.savefig('mesh_pad.png')"
   ]
  },
  {
   "cell_type": "code",
   "execution_count": null,
   "metadata": {},
   "outputs": [],
   "source": [
    "T_new_p1 = []\n",
    "for i in range(len(T_new_p)):\n",
    "    T_new_p1 = T_new_p1 + [60]"
   ]
  },
  {
   "cell_type": "code",
   "execution_count": null,
   "metadata": {},
   "outputs": [],
   "source": []
  },
  {
   "cell_type": "code",
   "execution_count": null,
   "metadata": {},
   "outputs": [],
   "source": [
    "\n",
    "\n",
    "\n",
    "for i in range(len(T_new_p)): \n",
    "    Delta_T.x.array[i] = T_new_p[i]-T_new_p1[i]    #Delta_T is the nodes temperature. \n",
    "\n",
    "#######try to make domain only for brake pad.\n",
    "E    = fem.Constant(domain_pad, 1.8e5)            # Elastic module\n",
    "nu   = fem.Constant(domain_pad, 0.2)              # Poission ratio\n",
    "gdim = domain_pad.geometry.dim\n",
    "\n",
    "mu    = E / 2 / (1 + nu)                          # Shear modulus\n",
    "lmbda = E * nu / (1 + nu) / (1 - 2 * nu)          # Lame parameters\n",
    "#alpha = fem.Constant(domain_pad, 1.5e-6)         # Thermal expansion coefficient\n",
    "alpha = fem.Constant(domain_pad, 1.5e-5)   \n",
    "f1    = fem.Constant(domain_pad, (0.0, 0.0, 0.0)) # O for external force\n",
    "\n",
    "def eps(v):                                       # epsilon, strain, the deforamtion, dy/y \n",
    "    return ufl.sym(ufl.grad(v))\n",
    "def sigma(v, Delta_T):                            # sigmathis is sigma\n",
    "    return (lmbda * ufl.tr(eps(v)) - alpha * (3 * lmbda + 2 * mu) * Delta_T \n",
    "    ) * ufl.Identity(gdim)  + 2.0 * mu * eps(v)   # here braces is important, can not be in above line\n",
    "\n",
    "Vu = fem.functionspace(domain_pad, (\"CG\", 1, (gdim,))) \n",
    "du = ufl.TrialFunction(Vu)\n",
    "u_ = ufl.TestFunction(Vu)\n",
    "\n",
    "Wint = ufl.inner(sigma(du, Delta_T), eps(u_)) * ufl.dx  # here du is unkown\n",
    "aM   = ufl.lhs(Wint)                                    # Wint is long and lhs can help to distinguish unkown and know.\n",
    "LM   = ufl.rhs(Wint) + ufl.inner(f1, u_) * ufl.dx       # knows parameters are in lhs\n",
    "\n",
    "def up_side(x):\n",
    "    #return np.isclose(x[2], (5))\n",
    "    return np.isclose(x[2], (z1+z2+z3))\n",
    "\n",
    "up_dofs_u = fem.locate_dofs_geometrical(Vu, up_side)    # lateral sides of domain\n",
    "bcu       = [fem.dirichletbc(np.zeros((gdim,)), up_dofs_u, Vu)]  # displacement Vu is fixed in lateral sides\n",
    "\n",
    "u_d       = fem.Function(Vu, name=\"Displacement\")\n",
    "problem   = fem.petsc.LinearProblem(aM, LM, u=u_d, bcs=bcu)\n",
    "problem.solve()\n",
    "\n",
    "scale_factor = 100\n",
    "plot_s_pad   = plot_S_pad(Vu,u_d,scale_factor )\n",
    "plot_s_pad.show()\n",
    "plt.savefig('displacement_no_contact.png')"
   ]
  },
  {
   "cell_type": "code",
   "execution_count": null,
   "metadata": {},
   "outputs": [],
   "source": [
    "scale_factor = 50000\n",
    "plot_s_pad   = plot_S_pad(Vu,u_d,scale_factor )\n",
    "plot_s_pad.show()\n",
    "plt.savefig('displacement_no_contact_scale_50000.png')"
   ]
  },
  {
   "cell_type": "markdown",
   "metadata": {},
   "source": [
    "## Penalty method"
   ]
  },
  {
   "cell_type": "code",
   "execution_count": null,
   "metadata": {},
   "outputs": [],
   "source": [
    "np.set_printoptions(threshold=np.inf)\n",
    "plt.plot(Delta_T.x.array)\n",
    "print( Delta_T.x.array )"
   ]
  },
  {
   "cell_type": "code",
   "execution_count": null,
   "metadata": {},
   "outputs": [],
   "source": [
    "def bottom_contact_nodes(x):\n",
    "    return np.isclose(x[2], z1)\n",
    "contact_dofs = fem.locate_dofs_geometrical(Vu, bottom_contact_nodes)\n",
    "penalty_param = 400\n",
    "# Create a function to store penalty forces in the same function space as displacement\n",
    "penalty_forces = fem.Function(Vu)\n",
    "def update_penalty_force(u_d, penalty_forces, z1, penalty_param):\n",
    "    u_vals = u_d.x.array.reshape(-1, gdim)\n",
    "    penalty_forces_vals = penalty_forces.x.array.reshape(-1, gdim)\n",
    "    # Apply penalty force for nodes below z1\n",
    "    for dof in contact_dofs:\n",
    "        if u_vals[dof][2] < 0:  ## here should <0 because contact surface is minus once expend with no constrain.\n",
    "            penalty_forces_vals[dof][2] = -penalty_param * ( u_vals[dof][2]) # if here is not minus, rubing element grew up\n",
    "        else:\n",
    "            penalty_forces_vals[dof][2] = 0.0  # No penalty force if above z1\n",
    "    penalty_forces.x.array[:] = penalty_forces_vals.ravel()\n",
    "\n",
    "u_d = fem.Function(Vu, name=\"Displacement\")\n",
    "problem = fem.petsc.LinearProblem(aM, LM, u=u_d, bcs=bcu)\n",
    "problem.solve()\n",
    "\n",
    "\n",
    "update_penalty_force(u_d, penalty_forces, z1, penalty_param)\n",
    "u_d = fem.Function(Vu, name=\"Displacement\")\n",
    "LM_penalized = LM + ufl.inner(penalty_forces, u_) * ufl.dx\n",
    "problem = fem.petsc.LinearProblem(aM, LM_penalized, u=u_d, bcs=bcu)\n",
    "problem.solve()\n",
    "\n",
    "scale_factor = 1\n",
    "plot_s_pad = plot_S_pad(Vu, u_d, scale_factor)\n",
    "plot_s_pad.show()\n",
    "plt.savefig('displacement_contact.png')"
   ]
  },
  {
   "cell_type": "markdown",
   "metadata": {},
   "source": [
    "## Get contact zone nodes"
   ]
  },
  {
   "cell_type": "code",
   "execution_count": null,
   "metadata": {},
   "outputs": [],
   "source": [
    "x_co_zone   = 0.001\n",
    "deformed_co, new_c = get_new_contact_nodes(x_co_zone, domain_pad, u_d,  Vu, z1, x_co, y_co )\n",
    "x_co_new, y_co_new, r_rub_new, S_total_new,S_rub_circle_new = get_r_xco_yco (deformed_co, new_c )\n",
    "fraction_c = []\n",
    "fraction_c.append( (S_total_new)/(200) )\n",
    "print('Total contact surface is: ', round(S_total_new, 2), \" mm\")\n",
    "print(\"Contact friction is \", fraction_c)"
   ]
  },
  {
   "cell_type": "code",
   "execution_count": null,
   "metadata": {},
   "outputs": [],
   "source": [
    "vtk = io.VTKFile(domain_pad.comm, \"pad_deformation\", \"w\")\n",
    "vtk.write_function(u_d)\n",
    "vtk.close()"
   ]
  }
 ],
 "metadata": {
  "jupytext": {
   "formats": "ipynb,py:light"
  },
  "kernelspec": {
   "display_name": "Python 3 (ipykernel)",
   "language": "python",
   "name": "python3"
  },
  "language_info": {
   "codemirror_mode": {
    "name": "ipython",
    "version": 3
   },
   "file_extension": ".py",
   "mimetype": "text/x-python",
   "name": "python",
   "nbconvert_exporter": "python",
   "pygments_lexer": "ipython3",
   "version": "3.12.2"
  }
 },
 "nbformat": 4,
 "nbformat_minor": 4
}
